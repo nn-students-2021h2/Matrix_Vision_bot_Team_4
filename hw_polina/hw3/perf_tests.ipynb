{
 "cells": [
  {
   "cell_type": "code",
   "execution_count": 1,
   "metadata": {},
   "outputs": [],
   "source": [
    "import servers_perf_test as perftest"
   ]
  },
  {
   "cell_type": "markdown",
   "metadata": {},
   "source": [
    "# Pure socket server"
   ]
  },
  {
   "cell_type": "code",
   "execution_count": 2,
   "metadata": {},
   "outputs": [
    {
     "name": "stdout",
     "output_type": "stream",
     "text": [
      "Pure socket server: 21014.86 RPS, total time 4.76 sec.\n"
     ]
    }
   ],
   "source": [
    "duration, rps = perftest.test_socket_server('no_cpu', 100000)\n",
    "print(f'Pure socket server: {rps:.2f} RPS, total time {duration:.2f} sec.')"
   ]
  },
  {
   "cell_type": "code",
   "execution_count": 3,
   "metadata": {},
   "outputs": [
    {
     "name": "stdout",
     "output_type": "stream",
     "text": [
      "Pure socket server: 408.77 RPS, total time 24.46 sec.\n"
     ]
    }
   ],
   "source": [
    "duration, rps = perftest.test_socket_server('cpu10000', 10000)\n",
    "print(f'Pure socket server: {rps:.2f} RPS, total time {duration:.2f} sec.')"
   ]
  },
  {
   "cell_type": "markdown",
   "metadata": {},
   "source": [
    "# Select server"
   ]
  },
  {
   "cell_type": "code",
   "execution_count": 5,
   "metadata": {},
   "outputs": [
    {
     "name": "stdout",
     "output_type": "stream",
     "text": [
      "Select server: 20173.40 RPS, total time 4.96 sec.\n"
     ]
    }
   ],
   "source": [
    "duration, rps = perftest.test_socket_server('no_cpu', 100000)\n",
    "print(f'Select server: {rps:.2f} RPS, total time {duration:.2f} sec.')"
   ]
  },
  {
   "cell_type": "code",
   "execution_count": 6,
   "metadata": {},
   "outputs": [
    {
     "name": "stdout",
     "output_type": "stream",
     "text": [
      "Select serverr: 407.38 RPS, total time 24.55 sec.\n"
     ]
    }
   ],
   "source": [
    "duration, rps = perftest.test_socket_server('cpu10000', 10000)\n",
    "print(f'Select serverr: {rps:.2f} RPS, total time {duration:.2f} sec.')"
   ]
  },
  {
   "cell_type": "markdown",
   "metadata": {},
   "source": [
    "# Selectors server"
   ]
  },
  {
   "cell_type": "code",
   "execution_count": 14,
   "metadata": {},
   "outputs": [
    {
     "name": "stdout",
     "output_type": "stream",
     "text": [
      "Selectors server: 18227.96 RPS, total time 5.49 sec.\n"
     ]
    }
   ],
   "source": [
    "duration, rps = perftest.test_socket_server('no_cpu', 100000)\n",
    "print(f'Selectors server: {rps:.2f} RPS, total time {duration:.2f} sec.')"
   ]
  },
  {
   "cell_type": "code",
   "execution_count": 16,
   "metadata": {},
   "outputs": [
    {
     "name": "stdout",
     "output_type": "stream",
     "text": [
      "Selectors server: 408.59 RPS, total time 24.47 sec.\n"
     ]
    }
   ],
   "source": [
    "duration, rps = perftest.test_socket_server('cpu10000', 10000)\n",
    "print(f'Selectors server: {rps:.2f} RPS, total time {duration:.2f} sec.')"
   ]
  },
  {
   "cell_type": "markdown",
   "metadata": {},
   "source": [
    "# HTTP server"
   ]
  },
  {
   "cell_type": "code",
   "execution_count": 17,
   "metadata": {},
   "outputs": [
    {
     "name": "stdout",
     "output_type": "stream",
     "text": [
      "HTTP server: 277.20 RPS, total time 360.75 sec.\n"
     ]
    }
   ],
   "source": [
    "duration, rps = perftest.test_pipeline(perftest.query_http_server, 100000)\n",
    "print(f'HTTP server: {rps:.2f} RPS, total time {duration:.2f} sec.')"
   ]
  },
  {
   "cell_type": "code",
   "execution_count": 18,
   "metadata": {},
   "outputs": [
    {
     "name": "stdout",
     "output_type": "stream",
     "text": [
      "HTTP server: 162.74 RPS, total time 61.45 sec.\n"
     ]
    }
   ],
   "source": [
    "duration, rps = perftest.test_pipeline(perftest.query_http_server_cpu_bound, 10000)\n",
    "print(f'HTTP server: {rps:.2f} RPS, total time {duration:.2f} sec.')"
   ]
  },
  {
   "cell_type": "markdown",
   "metadata": {},
   "source": [
    "# Выводы\n",
    "- Pure socket сервер оказался самым быстрым.\n",
    "- За ним идут сервера основанные на select и selectors.\n",
    "- HTTP сервер самый медленный из сравниваемых.\n",
    "- В CPU-bound задача первые три типа серверов показали схожую производительность, HTTP сервер опять оказался медленнее."
   ]
  }
 ],
 "metadata": {
  "interpreter": {
   "hash": "6a9424856712ed6911ab7f989f24060d0a4f43e7edc2ff7cfde14da5ab7879b4"
  },
  "kernelspec": {
   "display_name": "Python 3 (ipykernel)",
   "language": "python",
   "name": "python3"
  },
  "language_info": {
   "codemirror_mode": {
    "name": "ipython",
    "version": 3
   },
   "file_extension": ".py",
   "mimetype": "text/x-python",
   "name": "python",
   "nbconvert_exporter": "python",
   "pygments_lexer": "ipython3",
   "version": "3.9.7"
  }
 },
 "nbformat": 4,
 "nbformat_minor": 2
}
